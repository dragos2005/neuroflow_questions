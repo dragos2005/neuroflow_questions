{
 "cells": [
  {
   "cell_type": "markdown",
   "metadata": {},
   "source": [
    "1. How many users completed an exercise in their first month per monthly cohort?\n",
    "Assume you have two tables in our company’s database:\n",
    "\n",
    "● 'users' table, with columns 'user_id', 'created_at'\n",
    "\n",
    "● ‘exercises’ table, with columns 'exercise_id', 'user_id', 'exercise_completion_date'\n",
    "\n",
    "Write a single SQL query that breaks up the users based on the month that they signed up (their\n",
    "cohort month), and determines the percentage of users that have a completed exercise in their\n",
    "first month for each monthly cohort (e.g., the 2018 January cohort has x% of users completing\n",
    "an exercise in their first month, 2018 February cohort has x% of users completing an exercise in\n",
    "their first month, etc.).\n"
   ]
  },
  {
   "cell_type": "code",
   "execution_count": null,
   "metadata": {},
   "outputs": [],
   "source": [
    "SELECT cohort_month, cohort_year, \n",
    "  SUM(completed_first_month) * 100.0 / COUNT(*) AS percentage\n",
    "FROM\n",
    "(SELECT cohort_month, cohort_year, exercise_month, exercise_year, \n",
    "  CASE \n",
    "    WHEN cohort_month = exercise_month AND cohort_year = exercise_year THEN 1\n",
    "    ELSE 0\n",
    "  END AS completed_first_month\n",
    "FROM\n",
    "((SELECT user_id, MONTH(created_at) AS cohort_month, YEAR(created_at) AS cohort_year\n",
    "FROM users) a LEFT JOIN\n",
    "(SELECT user_id AS ex_user_id, MONTH(MIN(exercise_completion_date)) AS exercise_month, \n",
    "  YEAR(MIN(exercise_completion_date)) AS exercise_year\n",
    "FROM exercises\n",
    "GROUP BY user_id) b on a.user_id = b.ex_user_id)) AS c\n",
    "GROUP BY cohort_month, cohort_year"
   ]
  },
  {
   "cell_type": "markdown",
   "metadata": {},
   "source": [
    "2. How many users completed a given amount of exercises?\n",
    "\n",
    "Assume you have two tables in our company’s database:\n",
    "    \n",
    "● 'users' table, with columns 'user_id', 'created_at'\n",
    "\n",
    "● ‘exercises’ table, with columns 'exercise_id', 'user_id', 'exercise_completion_date'\n",
    "\n",
    "Write a single SQL query that returns a frequency distribution of the number of activities each\n",
    "user completed. (Ex: 1000 users completed 1 activity, 500 completed 10 activities, 100\n",
    "completed 100 activities, etc…)\n"
   ]
  },
  {
   "cell_type": "code",
   "execution_count": null,
   "metadata": {},
   "outputs": [],
   "source": [
    "SELECT COUNT(*) AS user_count, exercise_count\n",
    "FROM\n",
    "(SELECT COUNT(*) AS exercise_count FROM exercises\n",
    "GROUP BY user_id) c\n",
    "GROUP BY exercise_count"
   ]
  },
  {
   "cell_type": "markdown",
   "metadata": {},
   "source": [
    "3. Which organizations have the most severe patient population?\n",
    "\n",
    "Assume you have two tables in our company’s database:\n",
    "    \n",
    "● ‘Providers’ table that contains ‘provider_id’, ‘organization_id’, and ‘organization_name’\n",
    "\n",
    "● ‘Phq9’ table that contains ‘patient_id’,’provider_id’, ‘score’,’datetime_created’\n",
    "\n",
    "For context, A phq9 score ranges from 0-27 and anything 20 or above is considered severe.\n",
    "Write a single query that finds the top five organizations that have the highest average phq9\n",
    "score per patient.\n"
   ]
  },
  {
   "cell_type": "code",
   "execution_count": null,
   "metadata": {},
   "outputs": [],
   "source": [
    "SELECT organization_id, AVG(score) AS avg_score\n",
    "FROM\n",
    "((SELECT provider_id, organization_id, organization_name\n",
    "FROM Providers) AS orgs JOIN\n",
    "(SELECT provider_id, score\n",
    "FROM Phq9) AS scores on orgs.provider_id = scores.provider_id)\n",
    "GROUP BY organization_id\n",
    "ORDER BY avg_score DESC\n",
    "LIMIT 5"
   ]
  }
 ],
 "metadata": {
  "kernelspec": {
   "display_name": "Python 3",
   "language": "python",
   "name": "python3"
  },
  "language_info": {
   "codemirror_mode": {
    "name": "ipython",
    "version": 3
   },
   "file_extension": ".py",
   "mimetype": "text/x-python",
   "name": "python",
   "nbconvert_exporter": "python",
   "pygments_lexer": "ipython3",
   "version": "3.7.4"
  }
 },
 "nbformat": 4,
 "nbformat_minor": 2
}
